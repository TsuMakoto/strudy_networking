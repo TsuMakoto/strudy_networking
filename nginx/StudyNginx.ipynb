{
 "cells": [
  {
   "cell_type": "markdown",
   "metadata": {},
   "source": [
    "# nginxを勉強する！ with マスタリングNginx - vol.1\n",
    "\n",
    "webエンジニアとしてせめてnginxくらい知っておきたいので、勉強します。\n",
    "\n",
    "今はdockerで簡単にnginxの環境が構築できるので、その恩恵に預かろうと思います。"
   ]
  },
  {
   "cell_type": "markdown",
   "metadata": {},
   "source": [
    "```shell\n",
    "docker run -it --rm nginx:1.17-alpine ash\n",
    "\n",
    "```"
   ]
  },
  {
   "cell_type": "markdown",
   "metadata": {},
   "source": [
    "これで、nginxの環境が構築できます。本書を進めていきましょう！"
   ]
  },
  {
   "cell_type": "markdown",
   "metadata": {},
   "source": [
    "## ちょっと不便なので、いくつか\n",
    "\n",
    "vimとgitを入れときましょう。\n",
    "\n",
    "`apk update && apk add vim git`"
   ]
  },
  {
   "cell_type": "markdown",
   "metadata": {},
   "source": [
    "## 設定ファイルのフォーマット\n",
    "\n",
    "Nginxの設定フォーマットは以下のようになってます。\n",
    "\n",
    "```nginx\n",
    "<section> {\n",
    "  <directive> <parameter>;\n",
    "}\n",
    "```\n",
    "このフォーマットにしたがって、設定ファイルを書いていくこととします。"
   ]
  },
  {
   "cell_type": "markdown",
   "metadata": {},
   "source": [
    "## Nginxのグローバル設定\n",
    "\n",
    "グローバル設定は前項のフォーマットとは例外になってる項目です。\n",
    "\n",
    "ディレクティブを設定するために用いられ、userやworker_processesなどの設定を行います。\n"
   ]
  },
  {
   "cell_type": "code",
   "execution_count": 23,
   "metadata": {},
   "outputs": [
    {
     "name": "stdout",
     "output_type": "stream",
     "text": [
      "thread = 1 warning: parsed expected 2 columns, but didn't reach end of line on data row: 3. Ignoring any extra columns on this row\n"
     ]
    },
    {
     "data": {
      "text/html": [
       "<table class=\"data-frame\"><thead><tr><th></th><th>ディレクティブ</th><th> 説明</th></tr><tr><th></th><th>String</th><th>String</th></tr></thead><tbody><p>6 rows × 2 columns</p><tr><th>1</th><td>user</td><td> ワーカーロセスを実行するユーザー名とグループ名が設定される。グループ名が省略された場合、グループ名はユーザー名と同一とみなされる。</td></tr><tr><th>2</th><td>worker_processes</td><td> 起動されるワーカープロセス数を示す。ワーカープロセスがクライアントからのコネクションすべてを処理する。適切な値はサーバー環境、ディスクサブシステム、ネットワークインフラなどに依存するが、経験則としては、CPUネックの場合はプロセッサコア数と同等に、I/Oネックの場合はプロセッサコア数を1.5から2倍した値に設定するのがよい。</td></tr><tr><th>3</th><td>error_log</td><td> error_logはすべてのエラーが書き込まれるファイルを指定する。(debug</td></tr><tr><th>4</th><td>pid</td><td> メインプロセスのプロセスIDが書き込まれるファイルを示す。</td></tr><tr><th>5</th><td>use</td><td> useディレクティブは利用するコネクション処理方式を示し、コンパイル時のディフォルト血を上書きする。</td></tr><tr><th>6</th><td>worker_connection</td><td> ワーカープロセスが同時にオープン可能なコネクションの最大数を設定する。</td></tr></tbody></table>"
      ],
      "text/latex": [
       "\\begin{tabular}{r|cc}\n",
       "\t& ディレクティブ &  説明\\\\\n",
       "\t\\hline\n",
       "\t& String & String\\\\\n",
       "\t\\hline\n",
       "\t1 & user &  ワーカーロセスを実行するユーザー名とグループ名が設定される。グループ名が省略された場合、グループ名はユーザー名と同一とみなされる。 \\\\\n",
       "\t2 & worker\\_processes &  起動されるワーカープロセス数を示す。ワーカープロセスがクライアントからのコネクションすべてを処理する。適切な値はサーバー環境、ディスクサブシステム、ネットワークインフラなどに依存するが、経験則としては、CPUネックの場合はプロセッサコア数と同等に、I/Oネックの場合はプロセッサコア数を1.5から2倍した値に設定するのがよい。 \\\\\n",
       "\t3 & error\\_log &  error\\_logはすべてのエラーが書き込まれるファイルを指定する。(debug \\\\\n",
       "\t4 & pid &  メインプロセスのプロセスIDが書き込まれるファイルを示す。 \\\\\n",
       "\t5 & use &  useディレクティブは利用するコネクション処理方式を示し、コンパイル時のディフォルト血を上書きする。 \\\\\n",
       "\t6 & worker\\_connection &  ワーカープロセスが同時にオープン可能なコネクションの最大数を設定する。 \\\\\n",
       "\\end{tabular}\n"
      ],
      "text/plain": [
       "6×2 DataFrames.DataFrame. Omitted printing of 1 columns\n",
       "│ Row │ ディレクティブ    │\n",
       "│     │ \u001b[90mString\u001b[39m            │\n",
       "├─────┼───────────────────┤\n",
       "│ 1   │ user              │\n",
       "│ 2   │ worker_processes  │\n",
       "│ 3   │ error_log         │\n",
       "│ 4   │ pid               │\n",
       "│ 5   │ use               │\n",
       "│ 6   │ worker_connection │"
      ]
     },
     "execution_count": 23,
     "metadata": {},
     "output_type": "execute_result"
    }
   ],
   "source": [
    "using CSV\n",
    "CSV.read(\"directive/global.csv\")"
   ]
  },
  {
   "cell_type": "markdown",
   "metadata": {},
   "source": [
    "本書で取り扱われている例の設定を紹介しよう。\n",
    "\n",
    "```nginx\n",
    "# nginxを「www」ユーザーで実行させる\n",
    "user www;\n",
    "\n",
    "# 負荷がCPUネックで12コアのシステム\n",
    "worker_processes 12;\n",
    "\n",
    "# エラーログのパスを明示的に指定する\n",
    "error_log /var/log/nginx/error.log;\n",
    "\n",
    "# pidファイルのパスも明示的に指定する\n",
    "pid /var/run/nginx.pid;\n",
    "\n",
    "# 「event」モジュール用のコンテキストを設定\n",
    "events {\n",
    "    # Solarisベースのシステムにおいて、デフォルトのコネクション処理機構を\n",
    "    # 用いた場合、時間の経過とともに、nginxが新規リクエストに対するレスポ\n",
    "    # ンスを行わなくなってしまうことを確認した。そのため、次善の作として\n",
    "    # 別の機構に切り替える。\n",
    "    use /dev/poll;\n",
    "    \n",
    "    # この数値とworker_porocessesの数値は、IPアドレス：ポート番号のペアで、\n",
    "    # 同時に受付可能な可能なコネクション数を示す。\n",
    "    worker_connections 2048;\n",
    "}\n",
    "\n",
    "```"
   ]
  },
  {
   "cell_type": "markdown",
   "metadata": {},
   "source": [
    "## インクルードファイルの利用\n",
    "可読性を高めるためや、再利用可能にするため、nginxの設定をファイルに分けるということができます。\n",
    "\n",
    "`include /opt/local/etc/nginx/mime.types;`\n",
    "\n",
    "複数のファイルを指定するために、ワイルドカードを用いることも可能です。\n",
    "\n",
    "`include /opt/local/etc/nginx/vhost/*.conf`\n",
    "\n",
    "フルパスが指定されなかった場合、Nginxはメインの設定ファイルからの相対パスを検索します。"
   ]
  },
  {
   "cell_type": "markdown",
   "metadata": {},
   "source": [
    "## HTTPサーバセクション\n",
    "HTTPサーバーセクション（httpコンテキスト）はNginxのビルドの際にHTTPモジュールを無効化（--without-http）しない限り利用できます。\n",
    "\n",
    "### クライアントディレクティブ\n",
    "\n",
    "このディレクティブはさまざまなクライアントの種類やクライアントからのコネクションそのものを制御します。"
   ]
  },
  {
   "cell_type": "code",
   "execution_count": 24,
   "metadata": {},
   "outputs": [
    {
     "data": {
      "text/html": [
       "<table class=\"data-frame\"><thead><tr><th></th><th>ディレクティブ</th><th> 説明</th></tr><tr><th></th><th>String</th><th>String</th></tr></thead><tbody><p>13 rows × 2 columns</p><tr><th>1</th><td>chunked_transfer_encoding</td><td>クライアントへのレスポンスの際に、HTTP/1.1標準のチャンク転送エンコードを無効にする</td></tr><tr><th>2</th><td>client_body_buffer_size</td><td>クライアントからのリクエストボディを読み取る際のバッファサイズを指定する。デフォルトはページサイズの２倍。リクエストボディが これを超える場合はテンポラリファイルに書き込まれる。</td></tr><tr><th>3</th><td>client_body_in_file_only</td><td>本ディレクティブにより、Nginxはクライアントからのリクエストボディに追加の処理を行う場合に用いる。本ディレクティブをonにする。 本ディレクティブをonにすることで、クライアントからのリクエストボディが強制的にファイルに保存される。</td></tr><tr><th>4</th><td>client_body_in_single_buffer</td><td>本ディレクティブにより、Nginxはクライアントからのリクエストボディ全体を強制的に単一のバッフォに保存するため、コピー操作が提言される</td></tr><tr><th>5</th><td>client_body_temp_path</td><td>クライアントからのリクエストボディを保存するパスを設定する</td></tr><tr><th>6</th><td>client_body_timeout</td><td>クライアントからのリクエストボディを読み取る際のタイムアウト値を指定する</td></tr><tr><th>7</th><td>client_header_buffer_size</td><td>クライアントからのリクエストヘッダのバッファサイズ。デフォルトの1KBを超えるサイズが必要となった際に設定する</td></tr><tr><th>8</th><td>client_max_body_size</td><td>クライアントからのリクエストボディの最大長。これを超えた場合、413(Request Entiry Too Large)エラーがブラウザに返却される</td></tr><tr><th>9</th><td>keepalive_disable</td><td>ブラウザからのキープアライブリクエストを無効にする</td></tr><tr><th>10</th><td>keepalive_requests</td><td>単一のキープアライブコネクションからクローズされるまでに発行可能なリクエスト数を指定する</td></tr><tr><th>11</th><td>large_client_header_buffers</td><td>クライアントからのリクエストヘッダの最大数と最大サイズを指定する</td></tr><tr><th>12</th><td>msie_padding</td><td>Internet Explore(MSIE)クライアントが400以上のステータスでレスポンスを返却する際に、レスポンスのサイズを512バイト以上 にするためにコメントを追加する機能を有効にする</td></tr><tr><th>13</th><td>msie_refresh</td><td>MSIEクライアントに対して、リダイレクトを送信する代わりにリフレッシュを送信する機構を有効にする</td></tr></tbody></table>"
      ],
      "text/latex": [
       "\\begin{tabular}{r|cc}\n",
       "\t& ディレクティブ &  説明\\\\\n",
       "\t\\hline\n",
       "\t& String & String\\\\\n",
       "\t\\hline\n",
       "\t1 & chunked\\_transfer\\_encoding & クライアントへのレスポンスの際に、HTTP/1.1標準のチャンク転送エンコードを無効にする \\\\\n",
       "\t2 & client\\_body\\_buffer\\_size & クライアントからのリクエストボディを読み取る際のバッファサイズを指定する。デフォルトはページサイズの２倍。リクエストボディが これを超える場合はテンポラリファイルに書き込まれる。 \\\\\n",
       "\t3 & client\\_body\\_in\\_file\\_only & 本ディレクティブにより、Nginxはクライアントからのリクエストボディに追加の処理を行う場合に用いる。本ディレクティブをonにする。 本ディレクティブをonにすることで、クライアントからのリクエストボディが強制的にファイルに保存される。 \\\\\n",
       "\t4 & client\\_body\\_in\\_single\\_buffer & 本ディレクティブにより、Nginxはクライアントからのリクエストボディ全体を強制的に単一のバッフォに保存するため、コピー操作が提言される \\\\\n",
       "\t5 & client\\_body\\_temp\\_path & クライアントからのリクエストボディを保存するパスを設定する \\\\\n",
       "\t6 & client\\_body\\_timeout & クライアントからのリクエストボディを読み取る際のタイムアウト値を指定する \\\\\n",
       "\t7 & client\\_header\\_buffer\\_size & クライアントからのリクエストヘッダのバッファサイズ。デフォルトの1KBを超えるサイズが必要となった際に設定する \\\\\n",
       "\t8 & client\\_max\\_body\\_size & クライアントからのリクエストボディの最大長。これを超えた場合、413(Request Entiry Too Large)エラーがブラウザに返却される \\\\\n",
       "\t9 & keepalive\\_disable & ブラウザからのキープアライブリクエストを無効にする \\\\\n",
       "\t10 & keepalive\\_requests & 単一のキープアライブコネクションからクローズされるまでに発行可能なリクエスト数を指定する \\\\\n",
       "\t11 & large\\_client\\_header\\_buffers & クライアントからのリクエストヘッダの最大数と最大サイズを指定する \\\\\n",
       "\t12 & msie\\_padding & Internet Explore(MSIE)クライアントが400以上のステータスでレスポンスを返却する際に、レスポンスのサイズを512バイト以上 にするためにコメントを追加する機能を有効にする \\\\\n",
       "\t13 & msie\\_refresh & MSIEクライアントに対して、リダイレクトを送信する代わりにリフレッシュを送信する機構を有効にする \\\\\n",
       "\\end{tabular}\n"
      ],
      "text/plain": [
       "13×2 DataFrames.DataFrame. Omitted printing of 1 columns\n",
       "│ Row │ ディレクティブ               │\n",
       "│     │ \u001b[90mString\u001b[39m                       │\n",
       "├─────┼──────────────────────────────┤\n",
       "│ 1   │ chunked_transfer_encoding    │\n",
       "│ 2   │ client_body_buffer_size      │\n",
       "│ 3   │ client_body_in_file_only     │\n",
       "│ 4   │ client_body_in_single_buffer │\n",
       "│ 5   │ client_body_temp_path        │\n",
       "│ 6   │ client_body_timeout          │\n",
       "│ 7   │ client_header_buffer_size    │\n",
       "│ 8   │ client_max_body_size         │\n",
       "│ 9   │ keepalive_disable            │\n",
       "│ 10  │ keepalive_requests           │\n",
       "│ 11  │ large_client_header_buffers  │\n",
       "│ 12  │ msie_padding                 │\n",
       "│ 13  │ msie_refresh                 │"
      ]
     },
     "execution_count": 24,
     "metadata": {},
     "output_type": "execute_result"
    }
   ],
   "source": [
    "CSV.read(\"directive/http_client.csv\")"
   ]
  },
  {
   "cell_type": "markdown",
   "metadata": {},
   "source": [
    "### ファイルI/Oディレクティブ\n",
    "このディレクティブは、Nginxが静的なファイルを配信する方法と、ファイルディスクリプタを管理する方法を制御します。\n",
    "\n",
    "> ファイルディスクリプタとは、プログラムからファイルを操作する際、操作対象のファイルを識別・同定するために割り当てられる番号。\n",
    "> OSにアクセスを依頼する際にファイルを指定するのに用いられる整数値である。\n",
    "> 主にUNIX系OSで用いられる仕組みで、Windowsではファイルハンドル（file handle）がほぼこれに相当する仕組みを提供する。\n"
   ]
  },
  {
   "cell_type": "code",
   "execution_count": 25,
   "metadata": {},
   "outputs": [
    {
     "data": {
      "text/html": [
       "<table class=\"data-frame\"><thead><tr><th></th><th>ディレクティブ</th><th> 説明</th></tr><tr><th></th><th>String</th><th>String</th></tr></thead><tbody><p>11 rows × 2 columns</p><tr><th>1</th><td>aio</td><td>非同期ファイルI/Oの使用を有効にする。これは、最近のFreeBSDおよびLinuxディストリビューションのすべてで利用できる。FreeBSDの場合、 aioはsendfuke用のデータをあらかじめロードしておくために用いられることがある。Linuxの場合directioも有効にする必要があるため、 sendfileが自動的に無効となる。</td></tr><tr><th>2</th><td>directio</td><td>パラメータで指定されたサイズより大きいファイルを配信する際に、OS固有のフラグや関数を有効にする。これはLinuxでaioを用いる際に 必須である。</td></tr><tr><th>3</th><td>directio_alignment</td><td>directioで用いるアラインメントを設定する。デフォルオ値の512で通常は十分だが、LinuxでXFSを用いる際は、この値を4Kに増やしておく ことを推奨する</td></tr><tr><th>4</th><td>open_file_cache</td><td>オープン中のファイルディスクリプタ、ディレクトリ検索結果、ファイル検索結果のエラーを格納するキャッシュを設定する</td></tr><tr><th>5</th><td>open_file_cache_errors</td><td>open_file_cacheによるファイル検索ケッアエラーのキャッシュを有効にする</td></tr><tr><th>6</th><td>open_file_cache_min_uses</td><td>ファイルディスクリプタをオープンしたままキャッシュ内に保持し続ける上で、open_file_cacheのinactiveパラメータで指定 された時間内に最低何回の使用を必要とするかを設定する。</td></tr><tr><th>7</th><td>open_file_cache_valid</td><td>open_file_cache内のエントリの有効性をチェックする時間感覚を設定する</td></tr><tr><th>8</th><td>postpone_output</td><td>Nginxがクライアントに送信するデータの最小サイズを指定する。他の要因がなければ、この値を超えるまではいかなるデータも 送信されない</td></tr><tr><th>9</th><td>read_ahead</td><td>可能な場合、カーネルはsizeパラメータで指定したサイズまでファイルをあらかじめ読み取っておく。本パラメータは現在のとこFreeBSDと Linuxでのみサポートされている。(Linuxにおいてsizeパラメータは無視される)</td></tr><tr><th>10</th><td>sendfile</td><td>sendfile(2)を用いることで、あるファイルディスクリプタから別のファイルディスクリプタへのデータの直接コピーを可能とする</td></tr><tr><th>11</th><td>sendfile_max_chunk</td><td>ワーカプロセスが待機してしまうことを避けるため、1回のsendfile(2) 呼び出しでコピー可能なデータの最大サイズを指定する</td></tr></tbody></table>"
      ],
      "text/latex": [
       "\\begin{tabular}{r|cc}\n",
       "\t& ディレクティブ &  説明\\\\\n",
       "\t\\hline\n",
       "\t& String & String\\\\\n",
       "\t\\hline\n",
       "\t1 & aio & 非同期ファイルI/Oの使用を有効にする。これは、最近のFreeBSDおよびLinuxディストリビューションのすべてで利用できる。FreeBSDの場合、 aioはsendfuke用のデータをあらかじめロードしておくために用いられることがある。Linuxの場合directioも有効にする必要があるため、 sendfileが自動的に無効となる。 \\\\\n",
       "\t2 & directio & パラメータで指定されたサイズより大きいファイルを配信する際に、OS固有のフラグや関数を有効にする。これはLinuxでaioを用いる際に 必須である。 \\\\\n",
       "\t3 & directio\\_alignment & directioで用いるアラインメントを設定する。デフォルオ値の512で通常は十分だが、LinuxでXFSを用いる際は、この値を4Kに増やしておく ことを推奨する \\\\\n",
       "\t4 & open\\_file\\_cache & オープン中のファイルディスクリプタ、ディレクトリ検索結果、ファイル検索結果のエラーを格納するキャッシュを設定する \\\\\n",
       "\t5 & open\\_file\\_cache\\_errors & open\\_file\\_cacheによるファイル検索ケッアエラーのキャッシュを有効にする \\\\\n",
       "\t6 & open\\_file\\_cache\\_min\\_uses & ファイルディスクリプタをオープンしたままキャッシュ内に保持し続ける上で、open\\_file\\_cacheのinactiveパラメータで指定 された時間内に最低何回の使用を必要とするかを設定する。 \\\\\n",
       "\t7 & open\\_file\\_cache\\_valid & open\\_file\\_cache内のエントリの有効性をチェックする時間感覚を設定する \\\\\n",
       "\t8 & postpone\\_output & Nginxがクライアントに送信するデータの最小サイズを指定する。他の要因がなければ、この値を超えるまではいかなるデータも 送信されない \\\\\n",
       "\t9 & read\\_ahead & 可能な場合、カーネルはsizeパラメータで指定したサイズまでファイルをあらかじめ読み取っておく。本パラメータは現在のとこFreeBSDと Linuxでのみサポートされている。(Linuxにおいてsizeパラメータは無視される) \\\\\n",
       "\t10 & sendfile & sendfile(2)を用いることで、あるファイルディスクリプタから別のファイルディスクリプタへのデータの直接コピーを可能とする \\\\\n",
       "\t11 & sendfile\\_max\\_chunk & ワーカプロセスが待機してしまうことを避けるため、1回のsendfile(2) 呼び出しでコピー可能なデータの最大サイズを指定する \\\\\n",
       "\\end{tabular}\n"
      ],
      "text/plain": [
       "11×2 DataFrames.DataFrame. Omitted printing of 1 columns\n",
       "│ Row │ ディレクティブ           │\n",
       "│     │ \u001b[90mString\u001b[39m                   │\n",
       "├─────┼──────────────────────────┤\n",
       "│ 1   │ aio                      │\n",
       "│ 2   │ directio                 │\n",
       "│ 3   │ directio_alignment       │\n",
       "│ 4   │ open_file_cache          │\n",
       "│ 5   │ open_file_cache_errors   │\n",
       "│ 6   │ open_file_cache_min_uses │\n",
       "│ 7   │ open_file_cache_valid    │\n",
       "│ 8   │ postpone_output          │\n",
       "│ 9   │ read_ahead               │\n",
       "│ 10  │ sendfile                 │\n",
       "│ 11  │ sendfile_max_chunk       │"
      ]
     },
     "execution_count": 25,
     "metadata": {},
     "output_type": "execute_result"
    }
   ],
   "source": [
    "CSV.read(\"directive/file_io.csv\")"
   ]
  },
  {
   "cell_type": "markdown",
   "metadata": {},
   "source": [
    "### ハッシュディレクティブ\n",
    "ハッシュ関連のディレクティブは、Nginxが個々の変数に割り当てる静的なメモリ領域の範囲を制御します。"
   ]
  },
  {
   "cell_type": "code",
   "execution_count": 26,
   "metadata": {},
   "outputs": [
    {
     "data": {
      "text/html": [
       "<table class=\"data-frame\"><thead><tr><th></th><th>ディレクティブ</th><th> 説明</th></tr><tr><th></th><th>String</th><th>String</th></tr></thead><tbody><p>5 rows × 2 columns</p><tr><th>1</th><td>server_names_hash_bucket_size</td><td>server_nameハッシュテーブルを保持するエントリのサイズを指定する</td></tr><tr><th>2</th><td>server_names_hash_max_size</td><td>server_nameハッシュテーブルの最大エントリ数を指定する</td></tr><tr><th>3</th><td>types_hash_bucket_size</td><td>typesハッシュテーブルの最大エントリ雛を指定する</td></tr><tr><th>4</th><td>variables_hash_bucket_size</td><td>その他の変数を保持するエントリ野サイズを指定する</td></tr><tr><th>5</th><td>variables_hash_maz_size</td><td>その他の変数の保持するハッシュテーブルの最大エントリ数を指定する</td></tr></tbody></table>"
      ],
      "text/latex": [
       "\\begin{tabular}{r|cc}\n",
       "\t& ディレクティブ &  説明\\\\\n",
       "\t\\hline\n",
       "\t& String & String\\\\\n",
       "\t\\hline\n",
       "\t1 & server\\_names\\_hash\\_bucket\\_size & server\\_nameハッシュテーブルを保持するエントリのサイズを指定する \\\\\n",
       "\t2 & server\\_names\\_hash\\_max\\_size & server\\_nameハッシュテーブルの最大エントリ数を指定する \\\\\n",
       "\t3 & types\\_hash\\_bucket\\_size & typesハッシュテーブルの最大エントリ雛を指定する \\\\\n",
       "\t4 & variables\\_hash\\_bucket\\_size & その他の変数を保持するエントリ野サイズを指定する \\\\\n",
       "\t5 & variables\\_hash\\_maz\\_size & その他の変数の保持するハッシュテーブルの最大エントリ数を指定する \\\\\n",
       "\\end{tabular}\n"
      ],
      "text/plain": [
       "5×2 DataFrames.DataFrame. Omitted printing of 1 columns\n",
       "│ Row │ ディレクティブ                │\n",
       "│     │ \u001b[90mString\u001b[39m                        │\n",
       "├─────┼───────────────────────────────┤\n",
       "│ 1   │ server_names_hash_bucket_size │\n",
       "│ 2   │ server_names_hash_max_size    │\n",
       "│ 3   │ types_hash_bucket_size        │\n",
       "│ 4   │ variables_hash_bucket_size    │\n",
       "│ 5   │ variables_hash_maz_size       │"
      ]
     },
     "execution_count": 26,
     "metadata": {},
     "output_type": "execute_result"
    }
   ],
   "source": [
    "CSV.read(\"directive/hash.csv\")"
   ]
  },
  {
   "cell_type": "markdown",
   "metadata": {},
   "source": [
    "### ソケットディレクティブ\n",
    "Nginxが生成するTCPソケットに関するさまざまなオプションを設定します。"
   ]
  },
  {
   "cell_type": "code",
   "execution_count": 27,
   "metadata": {},
   "outputs": [
    {
     "name": "stdout",
     "output_type": "stream",
     "text": [
      "thread = 1 warning: parsed expected 2 columns, but didn't reach end of line on data row: 5. Ignoring any extra columns on this row\n"
     ]
    },
    {
     "data": {
      "text/html": [
       "<table class=\"data-frame\"><thead><tr><th></th><th>ディレクティブ</th><th> 説明</th></tr><tr><th></th><th>String</th><th>String</th></tr></thead><tbody><p>8 rows × 2 columns</p><tr><th>1</th><td>lingering_close</td><td>クライアントからのコネクションをクローズする際に、追加で送信されたデータへの対応を制御する</td></tr><tr><th>2</th><td>lingering_time</td><td>本ディレクティブは、lingering_closeディレクティブが有効になっているコネクションで、通過で送信されたデータを処理するために コネクションをオープンしておく時間を指定する</td></tr><tr><th>3</th><td>ligering_timeout</td><td>本ディレクティブも、lingering_closeと組み合わせる事で、Nginxがコネクションをクローズする前に、追加されたデータを待ち受ける時間を 指定する</td></tr><tr><th>4</th><td>reset_timedout_connection</td><td>本ディレクティブが有効な場合、タイム会うとしたコネクションは即座にリセットされ、関連するメモリがすべて開放される。デフォルトでは、 ソケットがFIN_WAIT1の状態のまま残る。キープアライブコネクションは、常にデフォルトの動作を行う</td></tr><tr><th>5</th><td>send_lowat</td><td>0以外の場合、Nginxはクライアントとのソケットにおける送信処理の回数を最小化しようとする。Linux</td></tr><tr><th>6</th><td>send_timeout</td><td>書き込み処理に対するクライアントからのレスポンスのタイムアウト値を設定する</td></tr><tr><th>7</th><td>tcp_nodelay</td><td>キープアライブコネクションに対するTCP_NODELAYオプションの有効化、無効化を制御する</td></tr><tr><th>8</th><td>tcp_nopush</td><td>sendfileを使っている場合のみ有効である。有効かすることで、可能な限り最大サイズのパケットを用いてファイルを送信する といった動作を試行するようにする</td></tr></tbody></table>"
      ],
      "text/latex": [
       "\\begin{tabular}{r|cc}\n",
       "\t& ディレクティブ &  説明\\\\\n",
       "\t\\hline\n",
       "\t& String & String\\\\\n",
       "\t\\hline\n",
       "\t1 & lingering\\_close & クライアントからのコネクションをクローズする際に、追加で送信されたデータへの対応を制御する \\\\\n",
       "\t2 & lingering\\_time & 本ディレクティブは、lingering\\_closeディレクティブが有効になっているコネクションで、通過で送信されたデータを処理するために コネクションをオープンしておく時間を指定する \\\\\n",
       "\t3 & ligering\\_timeout & 本ディレクティブも、lingering\\_closeと組み合わせる事で、Nginxがコネクションをクローズする前に、追加されたデータを待ち受ける時間を 指定する \\\\\n",
       "\t4 & reset\\_timedout\\_connection & 本ディレクティブが有効な場合、タイム会うとしたコネクションは即座にリセットされ、関連するメモリがすべて開放される。デフォルトでは、 ソケットがFIN\\_WAIT1の状態のまま残る。キープアライブコネクションは、常にデフォルトの動作を行う \\\\\n",
       "\t5 & send\\_lowat & 0以外の場合、Nginxはクライアントとのソケットにおける送信処理の回数を最小化しようとする。Linux \\\\\n",
       "\t6 & send\\_timeout & 書き込み処理に対するクライアントからのレスポンスのタイムアウト値を設定する \\\\\n",
       "\t7 & tcp\\_nodelay & キープアライブコネクションに対するTCP\\_NODELAYオプションの有効化、無効化を制御する \\\\\n",
       "\t8 & tcp\\_nopush & sendfileを使っている場合のみ有効である。有効かすることで、可能な限り最大サイズのパケットを用いてファイルを送信する といった動作を試行するようにする \\\\\n",
       "\\end{tabular}\n"
      ],
      "text/plain": [
       "8×2 DataFrames.DataFrame. Omitted printing of 1 columns\n",
       "│ Row │ ディレクティブ            │\n",
       "│     │ \u001b[90mString\u001b[39m                    │\n",
       "├─────┼───────────────────────────┤\n",
       "│ 1   │ lingering_close           │\n",
       "│ 2   │ lingering_time            │\n",
       "│ 3   │ ligering_timeout          │\n",
       "│ 4   │ reset_timedout_connection │\n",
       "│ 5   │ send_lowat                │\n",
       "│ 6   │ send_timeout              │\n",
       "│ 7   │ tcp_nodelay               │\n",
       "│ 8   │ tcp_nopush                │"
      ]
     },
     "execution_count": 27,
     "metadata": {},
     "output_type": "execute_result"
    }
   ],
   "source": [
    "CSV.read(\"directive/socket.csv\")"
   ]
  },
  {
   "cell_type": "markdown",
   "metadata": {},
   "source": [
    "### 設定例\n",
    "```nginx\n",
    "http {\n",
    "    include /opt/local/etc/nginx/mime.types;\n",
    "    default_type application/octet-stream;\n",
    "    sendfile on;\n",
    "    tcp_nopush on;\n",
    "    tcp_nodelay on;\n",
    "    keepalive_timeout 65;\n",
    "    server_names_hash_max_size 1024;\n",
    "}\n",
    "```\n",
    "このコンテキストブロックは、nginx.confファイルでグローバル設定ディレクティブの後に配置します。"
   ]
  },
  {
   "cell_type": "markdown",
   "metadata": {},
   "source": [
    "## 仮想サーバーセクション\n",
    "serverから始まるコンテキストは「仮想サーバー」セクションとして扱われます。\n",
    "\n",
    "仮想サーバにより、リソース群が論理的に分割されて別々のserver_nameディレクティブで配信されるようになります。\n",
    "\n",
    "\n",
    "仮想サーバはlistenとserver_nameディレクティブにより定義されます。\n",
    "listenディレクティブは、次のように、IPアドレスとポート番号のペア、もしくはUNIXドメインソケットのパスを指定します。\n",
    "```nginx\n",
    "listen address[:port];\n",
    "listen port;\n",
    "listen unix:path;\n",
    "```\n"
   ]
  },
  {
   "cell_type": "code",
   "execution_count": 29,
   "metadata": {},
   "outputs": [
    {
     "data": {
      "text/html": [
       "<table class=\"data-frame\"><thead><tr><th></th><th>パラメータ</th><th> 説明</th></tr><tr><th></th><th>String</th><th>String</th></tr></thead><tbody><p>11 rows × 2 columns</p><tr><th>1</th><td>default_server</td><td> リクエストがデフォルトで処理されるaddress:portのペアを定義する</td></tr><tr><th>2</th><td>setfib</td><td> 待ち受けているソケットにFIBを設定する。</td></tr><tr><th>3</th><td>backlog</td><td> listen()のbacklogパラメータを指定する</td></tr><tr><th>4</th><td>rcvbuf</td><td> 待ち受けているソケットにSO_RCVBUFパラメータを設定する</td></tr><tr><th>5</th><td>sndbuf</td><td> 待ち受けているソケットにSO_SNDBUFパラメータを設定する</td></tr><tr><th>6</th><td>accept_filter</td><td> accept filter名としてdatareadyもしくはhttpreadyを設定する</td></tr><tr><th>7</th><td>deferred</td><td> 遅延accept()を用いるためにTCP_DEFER_ACCEPTオプションを設定する。</td></tr><tr><th>8</th><td>bind</td><td> address:portのペアに対して個別にbind()を行う</td></tr><tr><th>9</th><td>ipv6only</td><td> IPV6_V6ONLYパラメータの値を指定する</td></tr><tr><th>10</th><td>ssl</td><td> このポートではHTTPSのコネクション以外実行しないことを示す</td></tr><tr><th>11</th><td>so_keepalive</td><td> 待ち受けているソケットに対して、TCPキープアライブを設定する。</td></tr></tbody></table>"
      ],
      "text/latex": [
       "\\begin{tabular}{r|cc}\n",
       "\t& パラメータ &  説明\\\\\n",
       "\t\\hline\n",
       "\t& String & String\\\\\n",
       "\t\\hline\n",
       "\t1 & default\\_server &  リクエストがデフォルトで処理されるaddress:portのペアを定義する \\\\\n",
       "\t2 & setfib &  待ち受けているソケットにFIBを設定する。 \\\\\n",
       "\t3 & backlog &  listen()のbacklogパラメータを指定する \\\\\n",
       "\t4 & rcvbuf &  待ち受けているソケットにSO\\_RCVBUFパラメータを設定する \\\\\n",
       "\t5 & sndbuf &  待ち受けているソケットにSO\\_SNDBUFパラメータを設定する \\\\\n",
       "\t6 & accept\\_filter &  accept filter名としてdatareadyもしくはhttpreadyを設定する \\\\\n",
       "\t7 & deferred &  遅延accept()を用いるためにTCP\\_DEFER\\_ACCEPTオプションを設定する。 \\\\\n",
       "\t8 & bind &  address:portのペアに対して個別にbind()を行う \\\\\n",
       "\t9 & ipv6only &  IPV6\\_V6ONLYパラメータの値を指定する \\\\\n",
       "\t10 & ssl &  このポートではHTTPSのコネクション以外実行しないことを示す \\\\\n",
       "\t11 & so\\_keepalive &  待ち受けているソケットに対して、TCPキープアライブを設定する。 \\\\\n",
       "\\end{tabular}\n"
      ],
      "text/plain": [
       "11×2 DataFrames.DataFrame. Omitted printing of 1 columns\n",
       "│ Row │ パラメータ     │\n",
       "│     │ \u001b[90mString\u001b[39m         │\n",
       "├─────┼────────────────┤\n",
       "│ 1   │ default_server │\n",
       "│ 2   │ setfib         │\n",
       "│ 3   │ backlog        │\n",
       "│ 4   │ rcvbuf         │\n",
       "│ 5   │ sndbuf         │\n",
       "│ 6   │ accept_filter  │\n",
       "│ 7   │ deferred       │\n",
       "│ 8   │ bind           │\n",
       "│ 9   │ ipv6only       │\n",
       "│ 10  │ ssl            │\n",
       "│ 11  │ so_keepalive   │"
      ]
     },
     "execution_count": 29,
     "metadata": {},
     "output_type": "execute_result"
    }
   ],
   "source": [
    "CSV.read(\"params/listen.csv\")"
   ]
  },
  {
   "cell_type": "markdown",
   "metadata": {},
   "source": [
    "nginxはあるリクエストに対して、どの仮想サーバーで処理を行うかのロジックは以下です。\n",
    "\n",
    "1. listenディレクティブのIPアドレスとポート番号がマッチしているか \n",
    "2. Hostヘッダフィールドがserver_nameディレクティブに指定された文字列にマッチしているか\n",
    "3. Hostヘッダフィールドがserver_nameディレクティブに指定された先頭にあるワイルドカードのある文字列にマッチしているか\n",
    "4. Hostヘッダフィール度がserver_nameディレクティブに指定された最後尾のワイルドカードのある文字列にマッチしているか\n",
    "5. Hostヘッダフィール度がserver_nameディレクティブに指定された正規表現で指定された文字列にマッチしているか\n",
    "6. Hostへっだフィールドの対応漬けに失敗した場合、default_serverが指定されたlistenディレクティブにマッチするか\n",
    "7. Hostヘッダフィールドの対応づけに失敗し、default_serverが未定義の場合、上記[1]を満たすlistenディレクティブが設定されている先頭のサーバにマッチするか"
   ]
  },
  {
   "cell_type": "markdown",
   "metadata": {},
   "source": [
    "## ロケーション\n",
    "\n",
    "locationディレクティブは仮想サーバセクション内で用いられ、クライアントが指定したURIもしくは内部リダイレクトで転送されたURIを示します。\n",
    "ロケーションはいくつかの例外を除き、ネストすることが可能で、特定の設定を用いてリクエストの処理を行うために用いられます。\n",
    "\n",
    "```nginx\n",
    "location [修飾子] uri { ... }\n",
    "```\n",
    "\n",
    "名前付きは以下です。\n",
    "```nginx\n",
    "location @name { ... }\n",
    "```"
   ]
  },
  {
   "cell_type": "markdown",
   "metadata": {},
   "source": [
    "リクエストがあると、つぎのようにリクエストのURIのマッチするロケーションの確認が行われます。\n",
    "\n",
    "- 正規表現の含まれていない文字列のロケーションに対して、文字列先頭からの最長一致でマッチするロケーションの確認が行われます。\n",
    "- 正規表現が含まれているロケーションが設定ファイルで定義された順に確認される。\n",
    "正義表現のチェックは最初にマッチしたロケーションで終了し、そのロケーションが処理に用いられる。"
   ]
  },
  {
   "cell_type": "markdown",
   "metadata": {},
   "source": [
    "## 設定ファイルの全容\n",
    "\n",
    "```nginx\n",
    "user www; \n",
    "worker_processes 12;\n",
    "error_log /var/log/nginx/error.log;\n",
    "pid /var/run/nginx.pid;\n",
    "\n",
    "events {\n",
    "    use /dev/poll;\n",
    "    worker_connections 2048;\n",
    "}\n",
    "\n",
    "http {\n",
    "    include /opt/local/etc/nginx/mime.types;\n",
    "    default_type application/octet-stream;\n",
    "    sendfile on;\n",
    "    tcp_nopush on;\n",
    "    tcp_nodelay on;\n",
    "    keepalive_timeout 65;\n",
    "    server_names_hash_max_size 1024;\n",
    "    \n",
    "    server {\n",
    "        listen 80;\n",
    "        return 444;\n",
    "    }\n",
    "    \n",
    "    server {\n",
    "        listen 80;\n",
    "        server_name www.example.com;\n",
    "        \n",
    "        location / {\n",
    "            try_files $uri $uri/ @mongrel;\n",
    "        }\n",
    "        \n",
    "        location @mongrel {\n",
    "            proxy_pass http://127.0.0.1:8080;\n",
    "        }\n",
    "    }\n",
    "}\n",
    "```"
   ]
  },
  {
   "cell_type": "markdown",
   "metadata": {},
   "source": [
    "## 終わり\n",
    "これが基本的なNginxの設定ファイルの作成方法です。\n",
    "次回からはメールモジュールについてみていきます。"
   ]
  }
 ],
 "metadata": {
  "kernelspec": {
   "display_name": "Julia 1.2.0",
   "language": "julia",
   "name": "julia-1.2"
  },
  "language_info": {
   "file_extension": ".jl",
   "mimetype": "application/julia",
   "name": "julia",
   "version": "1.2.0"
  }
 },
 "nbformat": 4,
 "nbformat_minor": 4
}
